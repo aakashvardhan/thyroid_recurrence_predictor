{
 "cells": [
  {
   "cell_type": "markdown",
   "metadata": {},
   "source": [
    "# Experimentation_Phase : 1. Data_Exploration & Preliminary Model"
   ]
  },
  {
   "cell_type": "markdown",
   "metadata": {},
   "source": [
    "## Dataset Description\n",
    "This dataset focuses on thyroid cancer recurrence after Radioactive Iodine (RAI) therapy. It contains 383 patient records with 13 key attributes, including age, gender, cancer staging, pathology type, risk classification, treatment response, and recurrence status. The data is valuable for predicting cancer recurrence, understanding risk factors, and evaluating treatment outcomes.\n",
    "\n",
    "📊 Dataset Overview\n",
    "📌 Total Rows: 383\n",
    "📌 Total Columns: 13\n",
    "📌 No Missing Values\n",
    "\n",
    "🔹 Column Descriptions\n",
    "- Age : Age of the patient (in years).\n",
    "- Gender : Patient's gender (Male or Female).\n",
    "- Hx Radiotherapy : History of prior radiotherapy (Yes or No).\n",
    "- Adenopathy : Presence of lymph node involvement (Yes or No).\n",
    "- Pathology : Type of thyroid cancer (e.g., Micropapillary).\n",
    "- Focality : Tumor focality (Uni-Focal or Multi-Focal).\n",
    "- Risk : Cancer risk classification (Low, Intermediate, High).\n",
    "- T : Tumor classification (T1, T2, etc.).\n",
    "- N : Lymph node classification (N0, N1, etc.).\n",
    "- M : Metastasis classification (M0, M1, etc.).\n",
    "- Stage : Cancer staging (Stage I, II, III, IV).\n",
    "- Response : Treatment response (Excellent, Indeterminate, etc.).\n",
    "- Recurred : Whether cancer recurred (Yes or No).\n",
    "\n",
    "🔍 Key Questions to Explore\n",
    "- 1️⃣ Are thyroid cancer recurrences more common in men or women?\n",
    "- 2️⃣ How does age affect recurrence risk?\n",
    "- 3️⃣ Can we predict recurrence based on tumor staging and pathology?\n",
    "- 4️⃣ What is the relationship between treatment response and recurrence?\n",
    "\n",
    "📂 Usage\n",
    "- This dataset is ideal for:\n",
    "  - ✅ Machine Learning Models for recurrence prediction\n",
    "  - ✅ Statistical Analysis of cancer progression\n",
    "  - ✅ Medical Research on thyroid cancer\n",
    "\n",
    "🔗 Source\n",
    "This dataset is a modified version of the original dataset:\n",
    "Differentiated Thyroid Cancer Recurrence by Joe Beach Capital.\n",
    "https://www.kaggle.com/datasets/joebeachcapital/differentiated-thyroid-cancer-recurrence\n",
    "I have removed unnecessary columns to focus on thyroid cancer recurrence analysis.\n",
    "\n",
    "📜 License\n",
    "🔹 Attribution 4.0 International (CC BY 4.0) – You are free to use, share, and modify with proper credit."
   ]
  },
  {
   "cell_type": "code",
   "execution_count": 1,
   "metadata": {},
   "outputs": [],
   "source": [
    "import re\n",
    "import numpy as np                # to work with arrays\n",
    "import pandas as pd                 # for data manipulation\n",
    "import matplotlib.pyplot as plt       # for visualization\n",
    "import seaborn as sns\n",
    "from sklearn.model_selection import train_test_split\n",
    "\n",
    "from sklearn.preprocessing import StandardScaler        # for scaling the features\n",
    "from sklearn.linear_model import LogisticRegression      # classification model\n",
    "from sklearn.metrics import accuracy_score, f1_score, precision_score, recall_score        # for performance measuring\n",
    "\n",
    "import joblib         # To persist/save the model\n",
    "\n"
   ]
  },
  {
   "cell_type": "code",
   "execution_count": 2,
   "metadata": {},
   "outputs": [],
   "source": [
    "# pipeline\n",
    "from sklearn.pipeline import Pipeline\n",
    "\n",
    "# for the preprocessors\n",
    "from sklearn.base import BaseEstimator, TransformerMixin\n",
    "\n",
    "# For binary variables\n",
    "from sklearn.preprocessing import LabelEncoder\n",
    "\n",
    "# For multi-class nominal variables\n",
    "from sklearn.preprocessing import OneHotEncoder\n",
    "\n",
    "# For ordinal variables\n",
    "from sklearn.preprocessing import OrdinalEncoder"
   ]
  },
  {
   "cell_type": "markdown",
   "metadata": {},
   "source": [
    "### Load & Explore the Dataset"
   ]
  },
  {
   "cell_type": "code",
   "execution_count": 3,
   "metadata": {},
   "outputs": [],
   "source": [
    "data = pd.read_csv('filtered_thyroid_data.csv')"
   ]
  },
  {
   "cell_type": "code",
   "execution_count": 4,
   "metadata": {},
   "outputs": [
    {
     "data": {
      "text/html": [
       "<div>\n",
       "<style scoped>\n",
       "    .dataframe tbody tr th:only-of-type {\n",
       "        vertical-align: middle;\n",
       "    }\n",
       "\n",
       "    .dataframe tbody tr th {\n",
       "        vertical-align: top;\n",
       "    }\n",
       "\n",
       "    .dataframe thead th {\n",
       "        text-align: right;\n",
       "    }\n",
       "</style>\n",
       "<table border=\"1\" class=\"dataframe\">\n",
       "  <thead>\n",
       "    <tr style=\"text-align: right;\">\n",
       "      <th></th>\n",
       "      <th>Age</th>\n",
       "      <th>Gender</th>\n",
       "      <th>Hx Radiothreapy</th>\n",
       "      <th>Adenopathy</th>\n",
       "      <th>Pathology</th>\n",
       "      <th>Focality</th>\n",
       "      <th>Risk</th>\n",
       "      <th>T</th>\n",
       "      <th>N</th>\n",
       "      <th>M</th>\n",
       "      <th>Stage</th>\n",
       "      <th>Response</th>\n",
       "      <th>Recurred</th>\n",
       "    </tr>\n",
       "  </thead>\n",
       "  <tbody>\n",
       "    <tr>\n",
       "      <th>0</th>\n",
       "      <td>27</td>\n",
       "      <td>F</td>\n",
       "      <td>No</td>\n",
       "      <td>No</td>\n",
       "      <td>Micropapillary</td>\n",
       "      <td>Uni-Focal</td>\n",
       "      <td>Low</td>\n",
       "      <td>T1a</td>\n",
       "      <td>N0</td>\n",
       "      <td>M0</td>\n",
       "      <td>I</td>\n",
       "      <td>Indeterminate</td>\n",
       "      <td>No</td>\n",
       "    </tr>\n",
       "    <tr>\n",
       "      <th>1</th>\n",
       "      <td>34</td>\n",
       "      <td>F</td>\n",
       "      <td>No</td>\n",
       "      <td>No</td>\n",
       "      <td>Micropapillary</td>\n",
       "      <td>Uni-Focal</td>\n",
       "      <td>Low</td>\n",
       "      <td>T1a</td>\n",
       "      <td>N0</td>\n",
       "      <td>M0</td>\n",
       "      <td>I</td>\n",
       "      <td>Excellent</td>\n",
       "      <td>No</td>\n",
       "    </tr>\n",
       "    <tr>\n",
       "      <th>2</th>\n",
       "      <td>30</td>\n",
       "      <td>F</td>\n",
       "      <td>No</td>\n",
       "      <td>No</td>\n",
       "      <td>Micropapillary</td>\n",
       "      <td>Uni-Focal</td>\n",
       "      <td>Low</td>\n",
       "      <td>T1a</td>\n",
       "      <td>N0</td>\n",
       "      <td>M0</td>\n",
       "      <td>I</td>\n",
       "      <td>Excellent</td>\n",
       "      <td>No</td>\n",
       "    </tr>\n",
       "    <tr>\n",
       "      <th>3</th>\n",
       "      <td>62</td>\n",
       "      <td>F</td>\n",
       "      <td>No</td>\n",
       "      <td>No</td>\n",
       "      <td>Micropapillary</td>\n",
       "      <td>Uni-Focal</td>\n",
       "      <td>Low</td>\n",
       "      <td>T1a</td>\n",
       "      <td>N0</td>\n",
       "      <td>M0</td>\n",
       "      <td>I</td>\n",
       "      <td>Excellent</td>\n",
       "      <td>No</td>\n",
       "    </tr>\n",
       "    <tr>\n",
       "      <th>4</th>\n",
       "      <td>62</td>\n",
       "      <td>F</td>\n",
       "      <td>No</td>\n",
       "      <td>No</td>\n",
       "      <td>Micropapillary</td>\n",
       "      <td>Multi-Focal</td>\n",
       "      <td>Low</td>\n",
       "      <td>T1a</td>\n",
       "      <td>N0</td>\n",
       "      <td>M0</td>\n",
       "      <td>I</td>\n",
       "      <td>Excellent</td>\n",
       "      <td>No</td>\n",
       "    </tr>\n",
       "  </tbody>\n",
       "</table>\n",
       "</div>"
      ],
      "text/plain": [
       "   Age Gender Hx Radiothreapy Adenopathy       Pathology     Focality Risk  \\\n",
       "0   27      F              No         No  Micropapillary    Uni-Focal  Low   \n",
       "1   34      F              No         No  Micropapillary    Uni-Focal  Low   \n",
       "2   30      F              No         No  Micropapillary    Uni-Focal  Low   \n",
       "3   62      F              No         No  Micropapillary    Uni-Focal  Low   \n",
       "4   62      F              No         No  Micropapillary  Multi-Focal  Low   \n",
       "\n",
       "     T   N   M Stage       Response Recurred  \n",
       "0  T1a  N0  M0     I  Indeterminate       No  \n",
       "1  T1a  N0  M0     I      Excellent       No  \n",
       "2  T1a  N0  M0     I      Excellent       No  \n",
       "3  T1a  N0  M0     I      Excellent       No  \n",
       "4  T1a  N0  M0     I      Excellent       No  "
      ]
     },
     "execution_count": 4,
     "metadata": {},
     "output_type": "execute_result"
    }
   ],
   "source": [
    "data.head()"
   ]
  },
  {
   "cell_type": "code",
   "execution_count": 5,
   "metadata": {},
   "outputs": [
    {
     "name": "stdout",
     "output_type": "stream",
     "text": [
      "<class 'pandas.core.frame.DataFrame'>\n",
      "RangeIndex: 383 entries, 0 to 382\n",
      "Data columns (total 13 columns):\n",
      " #   Column           Non-Null Count  Dtype \n",
      "---  ------           --------------  ----- \n",
      " 0   Age              383 non-null    int64 \n",
      " 1   Gender           383 non-null    object\n",
      " 2   Hx Radiothreapy  383 non-null    object\n",
      " 3   Adenopathy       383 non-null    object\n",
      " 4   Pathology        383 non-null    object\n",
      " 5   Focality         383 non-null    object\n",
      " 6   Risk             383 non-null    object\n",
      " 7   T                383 non-null    object\n",
      " 8   N                383 non-null    object\n",
      " 9   M                383 non-null    object\n",
      " 10  Stage            383 non-null    object\n",
      " 11  Response         383 non-null    object\n",
      " 12  Recurred         383 non-null    object\n",
      "dtypes: int64(1), object(12)\n",
      "memory usage: 39.0+ KB\n"
     ]
    }
   ],
   "source": [
    "data.info()"
   ]
  },
  {
   "cell_type": "markdown",
   "metadata": {},
   "source": [
    "### Data Exploration"
   ]
  },
  {
   "cell_type": "markdown",
   "metadata": {},
   "source": [
    "#### Find numerical and categorical variables"
   ]
  },
  {
   "cell_type": "code",
   "execution_count": 6,
   "metadata": {},
   "outputs": [
    {
     "name": "stdout",
     "output_type": "stream",
     "text": [
      "['Age']\n",
      "['Gender', 'Hx Radiothreapy', 'Adenopathy', 'Pathology', 'Focality', 'Risk', 'T', 'N', 'M', 'Stage', 'Response', 'Recurred']\n"
     ]
    }
   ],
   "source": [
    "# find numerical and categorical features\n",
    "vars_num = [col for col in data.columns if data[col].dtype in ['int64', 'float64']]\n",
    "vars_cat = [col for col in data.columns if data[col].dtype in ['object']]\n",
    "\n",
    "print(vars_num)\n",
    "print(vars_cat)\n",
    "\n"
   ]
  },
  {
   "cell_type": "markdown",
   "metadata": {},
   "source": [
    "#### Determine cardinality of categorical variables"
   ]
  },
  {
   "cell_type": "code",
   "execution_count": 7,
   "metadata": {},
   "outputs": [
    {
     "data": {
      "text/plain": [
       "Gender             2\n",
       "Hx Radiothreapy    2\n",
       "Adenopathy         6\n",
       "Pathology          4\n",
       "Focality           2\n",
       "Risk               3\n",
       "T                  7\n",
       "N                  3\n",
       "M                  2\n",
       "Stage              5\n",
       "Response           4\n",
       "Recurred           2\n",
       "dtype: int64"
      ]
     },
     "execution_count": 7,
     "metadata": {},
     "output_type": "execute_result"
    }
   ],
   "source": [
    "data[vars_cat].nunique()"
   ]
  },
  {
   "cell_type": "markdown",
   "metadata": {},
   "source": [
    "#### Determine the distribution of numerical variables"
   ]
  },
  {
   "cell_type": "code",
   "execution_count": 8,
   "metadata": {},
   "outputs": [
    {
     "data": {
      "image/png": "[encoded data removed]",
      "text/plain": [
       "<Figure size 1500x1200 with 1 Axes>"
      ]
     },
     "metadata": {},
     "output_type": "display_data"
    }
   ],
   "source": [
    "data[vars_num].hist(figsize=(15, 12), bins=30, edgecolor='black')\n",
    "plt.tight_layout()\n",
    "plt.show()"
   ]
  },
  {
   "cell_type": "markdown",
   "metadata": {},
   "source": [
    "#### Determine the distribution of categorical columns"
   ]
  },
  {
   "cell_type": "code",
   "execution_count": 9,
   "metadata": {},
   "outputs": [
    {
     "data": {
      "image/png": "[encoded data removed]",
      "text/plain": [
       "<Figure size 1500x1200 with 12 Axes>"
      ]
     },
     "metadata": {},
     "output_type": "display_data"
    }
   ],
   "source": [
    "fig, axes = plt.subplots(nrows=4, ncols=3, figsize=(15, 12))\n",
    "axes = axes.flatten()\n",
    "\n",
    "for i, col in enumerate(vars_cat):\n",
    "    if i < len(axes):\n",
    "        sns.countplot(y=col, data=data, ax=axes[i])\n",
    "        axes[i].set_title(col)\n",
    "        \n",
    "plt.tight_layout()\n",
    "plt.show()\n"
   ]
  },
  {
   "cell_type": "markdown",
   "metadata": {},
   "source": [
    "### Split the data into train and test set"
   ]
  },
  {
   "cell_type": "code",
   "execution_count": 10,
   "metadata": {},
   "outputs": [
    {
     "name": "stdout",
     "output_type": "stream",
     "text": [
      "(306, 12) (77, 12) (306,) (77,)\n"
     ]
    }
   ],
   "source": [
    "x = data.drop('Recurred', axis=1)\n",
    "y = data['Recurred']\n",
    "\n",
    "x_train, x_test, y_train, y_test = train_test_split(x, y, test_size=0.2, random_state=42)\n",
    "\n",
    "print(x_train.shape, x_test.shape, y_train.shape, y_test.shape)\n"
   ]
  },
  {
   "cell_type": "markdown",
   "metadata": {},
   "source": [
    "### Feature Engineering"
   ]
  },
  {
   "cell_type": "markdown",
   "metadata": {},
   "source": [
    "#### Mapping columns"
   ]
  },
  {
   "cell_type": "code",
   "execution_count": 11,
   "metadata": {},
   "outputs": [],
   "source": [
    "# Dictionary mappings for each column\n",
    "gender_mapping = {\n",
    "    'F': 0,\n",
    "    'M': 1\n",
    "}\n",
    "\n",
    "radiotherapy_mapping = {\n",
    "    'No': 0,\n",
    "    'Yes': 1\n",
    "}\n",
    "\n",
    "adenopathy_mapping = {\n",
    "    'No': 0,\n",
    "    'Right': 1,\n",
    "    'Extensive': 2,\n",
    "    'Left': 3,\n",
    "    'Bilateral': 4,\n",
    "    'Posterior': 5\n",
    "}\n",
    "\n",
    "pathology_mapping = {\n",
    "    'Micropapillary': 0,\n",
    "    'Papillary': 1,\n",
    "    'Follicular': 2,\n",
    "    'Hurthel cell': 3\n",
    "}\n",
    "\n",
    "focality_mapping = {\n",
    "    'Uni-Focal': 0,\n",
    "    'Multi-Focal': 1\n",
    "}\n",
    "\n",
    "risk_mapping = {\n",
    "    'Low': 0,\n",
    "    'Intermediate': 1,\n",
    "    'High': 2\n",
    "}\n",
    "\n",
    "t_stage_mapping = {\n",
    "    'T1a': 0,\n",
    "    'T1b': 1,\n",
    "    'T2': 2,\n",
    "    'T3a': 3,\n",
    "    'T3b': 4,\n",
    "    'T4a': 5,\n",
    "    'T4b': 6\n",
    "}\n",
    "\n",
    "n_stage_mapping = {\n",
    "    'N0': 0,\n",
    "    'N1b': 1,\n",
    "    'N1a': 2\n",
    "}\n",
    "\n",
    "m_stage_mapping = {\n",
    "    'M0': 0,\n",
    "    'M1': 1\n",
    "}\n",
    "\n",
    "stage_mapping = {\n",
    "    'I': 0,\n",
    "    'II': 1,\n",
    "    'IVB': 2,\n",
    "    'III': 3,\n",
    "    'IVA': 4\n",
    "}\n",
    "\n",
    "response_mapping = {\n",
    "    'Indeterminate': 0,\n",
    "    'Excellent': 1,\n",
    "    'Structural Incomplete': 2,\n",
    "    'Biochemical Incomplete': 3\n",
    "}\n",
    "\n",
    "recurred_mapping = {\n",
    "    'No': 0,\n",
    "    'Yes': 1\n",
    "}\n",
    "\n"
   ]
  },
  {
   "cell_type": "code",
   "execution_count": 12,
   "metadata": {},
   "outputs": [
    {
     "data": {
      "text/html": [
       "<div>\n",
       "<style scoped>\n",
       "    .dataframe tbody tr th:only-of-type {\n",
       "        vertical-align: middle;\n",
       "    }\n",
       "\n",
       "    .dataframe tbody tr th {\n",
       "        vertical-align: top;\n",
       "    }\n",
       "\n",
       "    .dataframe thead th {\n",
       "        text-align: right;\n",
       "    }\n",
       "</style>\n",
       "<table border=\"1\" class=\"dataframe\">\n",
       "  <thead>\n",
       "    <tr style=\"text-align: right;\">\n",
       "      <th></th>\n",
       "      <th>Age</th>\n",
       "      <th>Gender</th>\n",
       "      <th>Hx Radiothreapy</th>\n",
       "      <th>Adenopathy</th>\n",
       "      <th>Pathology</th>\n",
       "      <th>Focality</th>\n",
       "      <th>Risk</th>\n",
       "      <th>T</th>\n",
       "      <th>N</th>\n",
       "      <th>M</th>\n",
       "      <th>Stage</th>\n",
       "      <th>Response</th>\n",
       "    </tr>\n",
       "  </thead>\n",
       "  <tbody>\n",
       "    <tr>\n",
       "      <th>165</th>\n",
       "      <td>40</td>\n",
       "      <td>0</td>\n",
       "      <td>0</td>\n",
       "      <td>0</td>\n",
       "      <td>1</td>\n",
       "      <td>1</td>\n",
       "      <td>0</td>\n",
       "      <td>2</td>\n",
       "      <td>0</td>\n",
       "      <td>0</td>\n",
       "      <td>0</td>\n",
       "      <td>1</td>\n",
       "    </tr>\n",
       "    <tr>\n",
       "      <th>321</th>\n",
       "      <td>62</td>\n",
       "      <td>0</td>\n",
       "      <td>0</td>\n",
       "      <td>1</td>\n",
       "      <td>1</td>\n",
       "      <td>1</td>\n",
       "      <td>1</td>\n",
       "      <td>3</td>\n",
       "      <td>1</td>\n",
       "      <td>0</td>\n",
       "      <td>1</td>\n",
       "      <td>2</td>\n",
       "    </tr>\n",
       "    <tr>\n",
       "      <th>220</th>\n",
       "      <td>29</td>\n",
       "      <td>0</td>\n",
       "      <td>0</td>\n",
       "      <td>0</td>\n",
       "      <td>1</td>\n",
       "      <td>0</td>\n",
       "      <td>0</td>\n",
       "      <td>2</td>\n",
       "      <td>2</td>\n",
       "      <td>0</td>\n",
       "      <td>0</td>\n",
       "      <td>0</td>\n",
       "    </tr>\n",
       "    <tr>\n",
       "      <th>94</th>\n",
       "      <td>37</td>\n",
       "      <td>0</td>\n",
       "      <td>0</td>\n",
       "      <td>0</td>\n",
       "      <td>3</td>\n",
       "      <td>1</td>\n",
       "      <td>0</td>\n",
       "      <td>2</td>\n",
       "      <td>0</td>\n",
       "      <td>0</td>\n",
       "      <td>0</td>\n",
       "      <td>1</td>\n",
       "    </tr>\n",
       "    <tr>\n",
       "      <th>232</th>\n",
       "      <td>31</td>\n",
       "      <td>0</td>\n",
       "      <td>0</td>\n",
       "      <td>3</td>\n",
       "      <td>1</td>\n",
       "      <td>0</td>\n",
       "      <td>1</td>\n",
       "      <td>2</td>\n",
       "      <td>1</td>\n",
       "      <td>0</td>\n",
       "      <td>0</td>\n",
       "      <td>2</td>\n",
       "    </tr>\n",
       "  </tbody>\n",
       "</table>\n",
       "</div>"
      ],
      "text/plain": [
       "     Age  Gender  Hx Radiothreapy  Adenopathy  Pathology  Focality  Risk  T  \\\n",
       "165   40       0                0           0          1         1     0  2   \n",
       "321   62       0                0           1          1         1     1  3   \n",
       "220   29       0                0           0          1         0     0  2   \n",
       "94    37       0                0           0          3         1     0  2   \n",
       "232   31       0                0           3          1         0     1  2   \n",
       "\n",
       "     N  M  Stage  Response  \n",
       "165  0  0      0         1  \n",
       "321  1  0      1         2  \n",
       "220  2  0      0         0  \n",
       "94   0  0      0         1  \n",
       "232  1  0      0         2  "
      ]
     },
     "execution_count": 12,
     "metadata": {},
     "output_type": "execute_result"
    }
   ],
   "source": [
    "x_train['Gender'] = x_train['Gender'].map(gender_mapping).astype(int)\n",
    "x_train['Hx Radiothreapy'] = x_train['Hx Radiothreapy'].map(radiotherapy_mapping).astype(int)\n",
    "x_train['Adenopathy'] = x_train['Adenopathy'].map(adenopathy_mapping).astype(int)\n",
    "x_train['Pathology'] = x_train['Pathology'].map(pathology_mapping).astype(int)\n",
    "x_train['Focality'] = x_train['Focality'].map(focality_mapping).astype(int)\n",
    "x_train['Risk'] = x_train['Risk'].map(risk_mapping).astype(int)\n",
    "x_train['T'] = x_train['T'].map(t_stage_mapping).astype(int)\n",
    "x_train['N'] = x_train['N'].map(n_stage_mapping).astype(int)\n",
    "x_train['M'] = x_train['M'].map(m_stage_mapping).astype(int)\n",
    "x_train['Stage'] = x_train['Stage'].map(stage_mapping).astype(int)\n",
    "x_train['Response'] = x_train['Response'].map(response_mapping).astype(int)\n",
    "\n",
    "x_train.head()\n",
    "\n"
   ]
  },
  {
   "cell_type": "code",
   "execution_count": 13,
   "metadata": {},
   "outputs": [],
   "source": [
    "y_train = y_train.map(recurred_mapping).astype(int)\n",
    "y_test = y_test.map(recurred_mapping).astype(int)"
   ]
  },
  {
   "cell_type": "markdown",
   "metadata": {},
   "source": [
    "#### Apply Standard Scalar "
   ]
  },
  {
   "cell_type": "code",
   "execution_count": 14,
   "metadata": {},
   "outputs": [],
   "source": [
    "scaler = StandardScaler()"
   ]
  },
  {
   "cell_type": "code",
   "execution_count": 15,
   "metadata": {},
   "outputs": [
    {
     "data": {
      "text/plain": [
       "array([-0.08221572, -0.51933568, -0.14142136, -0.52686304, -0.12888482,\n",
       "        1.28874729, -0.6979317 , -0.20639551, -0.63695227, -0.21063855,\n",
       "       -0.34035146, -0.26361791])"
      ]
     },
     "execution_count": 15,
     "metadata": {},
     "output_type": "execute_result"
    }
   ],
   "source": [
    "X_train_scaled = scaler.fit_transform(x_train)\n",
    "\n",
    "X_train_scaled[0,:]"
   ]
  },
  {
   "cell_type": "markdown",
   "metadata": {},
   "source": [
    "#### Create a single function for preprocessing the test set (X_test) and apply it."
   ]
  },
  {
   "cell_type": "code",
   "execution_count": 16,
   "metadata": {},
   "outputs": [],
   "source": [
    "def preprocess(df):\n",
    "    df = df.copy()\n",
    "    df['Gender'] = df['Gender'].map(gender_mapping).astype(int)\n",
    "    df['Hx Radiothreapy'] = df['Hx Radiothreapy'].map(radiotherapy_mapping).astype(int)\n",
    "    df['Adenopathy'] = df['Adenopathy'].map(adenopathy_mapping).astype(int)\n",
    "    df['Pathology'] = df['Pathology'].map(pathology_mapping).astype(int)\n",
    "    df['Focality'] = df['Focality'].map(focality_mapping).astype(int)\n",
    "    df['Risk'] = df['Risk'].map(risk_mapping).astype(int)\n",
    "    df['T'] = df['T'].map(t_stage_mapping).astype(int)\n",
    "    df['N'] = df['N'].map(n_stage_mapping).astype(int)\n",
    "    df['M'] = df['M'].map(m_stage_mapping).astype(int)\n",
    "    df['Stage'] = df['Stage'].map(stage_mapping).astype(int)\n",
    "    df['Response'] = df['Response'].map(response_mapping).astype(int)\n",
    "    return df"
   ]
  },
  {
   "cell_type": "code",
   "execution_count": 17,
   "metadata": {},
   "outputs": [
    {
     "data": {
      "text/html": [
       "<div>\n",
       "<style scoped>\n",
       "    .dataframe tbody tr th:only-of-type {\n",
       "        vertical-align: middle;\n",
       "    }\n",
       "\n",
       "    .dataframe tbody tr th {\n",
       "        vertical-align: top;\n",
       "    }\n",
       "\n",
       "    .dataframe thead th {\n",
       "        text-align: right;\n",
       "    }\n",
       "</style>\n",
       "<table border=\"1\" class=\"dataframe\">\n",
       "  <thead>\n",
       "    <tr style=\"text-align: right;\">\n",
       "      <th></th>\n",
       "      <th>Age</th>\n",
       "      <th>Gender</th>\n",
       "      <th>Hx Radiothreapy</th>\n",
       "      <th>Adenopathy</th>\n",
       "      <th>Pathology</th>\n",
       "      <th>Focality</th>\n",
       "      <th>Risk</th>\n",
       "      <th>T</th>\n",
       "      <th>N</th>\n",
       "      <th>M</th>\n",
       "      <th>Stage</th>\n",
       "      <th>Response</th>\n",
       "    </tr>\n",
       "  </thead>\n",
       "  <tbody>\n",
       "    <tr>\n",
       "      <th>268</th>\n",
       "      <td>32</td>\n",
       "      <td>0</td>\n",
       "      <td>0</td>\n",
       "      <td>0</td>\n",
       "      <td>1</td>\n",
       "      <td>0</td>\n",
       "      <td>0</td>\n",
       "      <td>3</td>\n",
       "      <td>0</td>\n",
       "      <td>0</td>\n",
       "      <td>0</td>\n",
       "      <td>1</td>\n",
       "    </tr>\n",
       "    <tr>\n",
       "      <th>250</th>\n",
       "      <td>30</td>\n",
       "      <td>0</td>\n",
       "      <td>0</td>\n",
       "      <td>1</td>\n",
       "      <td>2</td>\n",
       "      <td>0</td>\n",
       "      <td>0</td>\n",
       "      <td>3</td>\n",
       "      <td>0</td>\n",
       "      <td>0</td>\n",
       "      <td>0</td>\n",
       "      <td>1</td>\n",
       "    </tr>\n",
       "    <tr>\n",
       "      <th>318</th>\n",
       "      <td>30</td>\n",
       "      <td>0</td>\n",
       "      <td>0</td>\n",
       "      <td>4</td>\n",
       "      <td>1</td>\n",
       "      <td>1</td>\n",
       "      <td>1</td>\n",
       "      <td>3</td>\n",
       "      <td>1</td>\n",
       "      <td>0</td>\n",
       "      <td>0</td>\n",
       "      <td>2</td>\n",
       "    </tr>\n",
       "    <tr>\n",
       "      <th>331</th>\n",
       "      <td>51</td>\n",
       "      <td>0</td>\n",
       "      <td>0</td>\n",
       "      <td>0</td>\n",
       "      <td>2</td>\n",
       "      <td>0</td>\n",
       "      <td>1</td>\n",
       "      <td>3</td>\n",
       "      <td>0</td>\n",
       "      <td>0</td>\n",
       "      <td>0</td>\n",
       "      <td>2</td>\n",
       "    </tr>\n",
       "    <tr>\n",
       "      <th>56</th>\n",
       "      <td>43</td>\n",
       "      <td>0</td>\n",
       "      <td>0</td>\n",
       "      <td>0</td>\n",
       "      <td>1</td>\n",
       "      <td>0</td>\n",
       "      <td>0</td>\n",
       "      <td>1</td>\n",
       "      <td>0</td>\n",
       "      <td>0</td>\n",
       "      <td>0</td>\n",
       "      <td>1</td>\n",
       "    </tr>\n",
       "  </tbody>\n",
       "</table>\n",
       "</div>"
      ],
      "text/plain": [
       "     Age  Gender  Hx Radiothreapy  Adenopathy  Pathology  Focality  Risk  T  \\\n",
       "268   32       0                0           0          1         0     0  3   \n",
       "250   30       0                0           1          2         0     0  3   \n",
       "318   30       0                0           4          1         1     1  3   \n",
       "331   51       0                0           0          2         0     1  3   \n",
       "56    43       0                0           0          1         0     0  1   \n",
       "\n",
       "     N  M  Stage  Response  \n",
       "268  0  0      0         1  \n",
       "250  0  0      0         1  \n",
       "318  1  0      0         2  \n",
       "331  0  0      0         2  \n",
       "56   0  0      0         1  "
      ]
     },
     "execution_count": 17,
     "metadata": {},
     "output_type": "execute_result"
    }
   ],
   "source": [
    "X_test = preprocess(x_test)\n",
    "X_test.head()\n"
   ]
  },
  {
   "cell_type": "code",
   "execution_count": 18,
   "metadata": {},
   "outputs": [
    {
     "name": "stdout",
     "output_type": "stream",
     "text": [
      "<class 'pandas.core.frame.DataFrame'>\n",
      "Index: 77 entries, 268 to 84\n",
      "Data columns (total 12 columns):\n",
      " #   Column           Non-Null Count  Dtype\n",
      "---  ------           --------------  -----\n",
      " 0   Age              77 non-null     int64\n",
      " 1   Gender           77 non-null     int64\n",
      " 2   Hx Radiothreapy  77 non-null     int64\n",
      " 3   Adenopathy       77 non-null     int64\n",
      " 4   Pathology        77 non-null     int64\n",
      " 5   Focality         77 non-null     int64\n",
      " 6   Risk             77 non-null     int64\n",
      " 7   T                77 non-null     int64\n",
      " 8   N                77 non-null     int64\n",
      " 9   M                77 non-null     int64\n",
      " 10  Stage            77 non-null     int64\n",
      " 11  Response         77 non-null     int64\n",
      "dtypes: int64(12)\n",
      "memory usage: 7.8 KB\n"
     ]
    }
   ],
   "source": [
    "X_test.info()"
   ]
  },
  {
   "cell_type": "markdown",
   "metadata": {},
   "source": [
    "#### Apply standard scalar transformation for X_test"
   ]
  },
  {
   "cell_type": "code",
   "execution_count": 19,
   "metadata": {},
   "outputs": [
    {
     "data": {
      "text/plain": [
       "array([-0.60770939, -0.51933568, -0.14142136, -0.52686304, -0.12888482,\n",
       "       -0.77594732, -0.6979317 ,  0.55453253, -0.63695227, -0.21063855,\n",
       "       -0.34035146, -0.26361791])"
      ]
     },
     "execution_count": 19,
     "metadata": {},
     "output_type": "execute_result"
    }
   ],
   "source": [
    "x_test_scaled = scaler.transform(X_test)\n",
    "x_test_scaled[0,:]"
   ]
  },
  {
   "cell_type": "markdown",
   "metadata": {},
   "source": [
    "### Apply Logistic Regression"
   ]
  },
  {
   "cell_type": "code",
   "execution_count": 20,
   "metadata": {},
   "outputs": [],
   "source": [
    "model_lr = LogisticRegression(penalty='l2', max_iter=1000)"
   ]
  },
  {
   "cell_type": "code",
   "execution_count": 21,
   "metadata": {},
   "outputs": [
    {
     "name": "stdout",
     "output_type": "stream",
     "text": [
      "Accuracy of Logistic Regression:  96.1038961038961\n",
      "F1 Score of Logistic Regression:  91.42857142857143\n"
     ]
    },
    {
     "name": "stderr",
     "output_type": "stream",
     "text": [
      "/Users/aakashvardhan/miniconda3/envs/iisc-aimlops/lib/python3.11/site-packages/sklearn/linear_model/_linear_loss.py:200: RuntimeWarning: divide by zero encountered in matmul\n",
      "  raw_prediction = X @ weights + intercept\n",
      "/Users/aakashvardhan/miniconda3/envs/iisc-aimlops/lib/python3.11/site-packages/sklearn/linear_model/_linear_loss.py:200: RuntimeWarning: overflow encountered in matmul\n",
      "  raw_prediction = X @ weights + intercept\n",
      "/Users/aakashvardhan/miniconda3/envs/iisc-aimlops/lib/python3.11/site-packages/sklearn/linear_model/_linear_loss.py:200: RuntimeWarning: invalid value encountered in matmul\n",
      "  raw_prediction = X @ weights + intercept\n",
      "/Users/aakashvardhan/miniconda3/envs/iisc-aimlops/lib/python3.11/site-packages/sklearn/linear_model/_linear_loss.py:330: RuntimeWarning: divide by zero encountered in matmul\n",
      "  grad[:n_features] = X.T @ grad_pointwise + l2_reg_strength * weights\n",
      "/Users/aakashvardhan/miniconda3/envs/iisc-aimlops/lib/python3.11/site-packages/sklearn/linear_model/_linear_loss.py:330: RuntimeWarning: overflow encountered in matmul\n",
      "  grad[:n_features] = X.T @ grad_pointwise + l2_reg_strength * weights\n",
      "/Users/aakashvardhan/miniconda3/envs/iisc-aimlops/lib/python3.11/site-packages/sklearn/linear_model/_linear_loss.py:330: RuntimeWarning: invalid value encountered in matmul\n",
      "  grad[:n_features] = X.T @ grad_pointwise + l2_reg_strength * weights\n"
     ]
    }
   ],
   "source": [
    "model_lr.fit(X_train_scaled, y_train)\n",
    "\n",
    "y_pred_lr = model_lr.predict(x_test_scaled)\n",
    "\n",
    "print(\"Accuracy of Logistic Regression: \", accuracy_score(y_test, y_pred_lr)*100)\n",
    "print(\"F1 Score of Logistic Regression: \", f1_score(y_test, y_pred_lr)*100)\n",
    "\n"
   ]
  },
  {
   "cell_type": "markdown",
   "metadata": {},
   "source": [
    "### Predict"
   ]
  },
  {
   "cell_type": "code",
   "execution_count": 30,
   "metadata": {},
   "outputs": [
    {
     "name": "stdout",
     "output_type": "stream",
     "text": [
      "Predicted Recurrence:  Yes\n"
     ]
    }
   ],
   "source": [
    "new_data = {\n",
    "    'Age': 35,\n",
    "    'Gender': 'F',\n",
    "    'Hx Radiothreapy': 'No',\n",
    "    'Adenopathy': 'No',\n",
    "    'Pathology': 'Micropapillary',\n",
    "    'Focality': 'Uni-Focal',\n",
    "    'Risk': 'High',\n",
    "    'T': 'T1a',\n",
    "    'N': 'N0',\n",
    "    'M': 'M0',\n",
    "    'Stage': 'I',\n",
    "    'Response': 'Excellent'\n",
    "}\n",
    "\n",
    "new_data = pd.DataFrame(new_data, index=[0])\n",
    "new_data = preprocess(new_data)\n",
    "new_data_scaled = scaler.transform(new_data)\n",
    "\n",
    "y_pred_new = model_lr.predict(new_data_scaled)\n",
    "\n",
    "# inverse transform the prediction\n",
    "def inverse_transform(y_pred):\n",
    "    if y_pred == 0:\n",
    "        return 'No'\n",
    "    else:\n",
    "        return 'Yes'\n",
    "    \n",
    "y_pred_new = inverse_transform(y_pred_new[0])\n",
    "\n",
    "print(\"Predicted Recurrence: \", inverse_transform(y_pred_new[0]))"
   ]
  },
  {
   "cell_type": "code",
   "execution_count": 23,
   "metadata": {},
   "outputs": [
    {
     "name": "stdout",
     "output_type": "stream",
     "text": [
      "[1 1 1 1 1 1 1 1 1 1 1 0 1 1 1 1 1 1 1 1 1 1 1 1 1 1 1 1 1 1 1 1 1 1 1 1 1\n",
      " 0 1 1 0 0 1 1 1 1 1 1 1 1 1 1 1 1 1 1 1 1 0 1 1 0 0 1 1 1 1 0 1 1 1 1 1 1\n",
      " 0 1 0 1 1 0 1 1 1 1 1 1 1 0 1 1 0 0 1 1 1 1 1 1 1 1]\n"
     ]
    },
    {
     "name": "stderr",
     "output_type": "stream",
     "text": [
      "/Users/aakashvardhan/miniconda3/envs/iisc-aimlops/lib/python3.11/site-packages/sklearn/utils/extmath.py:203: RuntimeWarning: divide by zero encountered in matmul\n",
      "  ret = a @ b\n",
      "/Users/aakashvardhan/miniconda3/envs/iisc-aimlops/lib/python3.11/site-packages/sklearn/utils/extmath.py:203: RuntimeWarning: overflow encountered in matmul\n",
      "  ret = a @ b\n",
      "/Users/aakashvardhan/miniconda3/envs/iisc-aimlops/lib/python3.11/site-packages/sklearn/utils/extmath.py:203: RuntimeWarning: invalid value encountered in matmul\n",
      "  ret = a @ b\n"
     ]
    }
   ],
   "source": [
    "# create random data generator\n",
    "def generate_random_data(n_samples=1):\n",
    "    data = {}\n",
    "    data['Age'] = np.random.randint(10, 80, n_samples)\n",
    "    data['Gender'] = np.random.choice(['F', 'M'], n_samples)\n",
    "    data['Hx Radiothreapy'] = np.random.choice(['No', 'Yes'], n_samples)\n",
    "    data['Adenopathy'] = np.random.choice(['No', 'Right', 'Extensive', 'Left', 'Bilateral', 'Posterior'], n_samples)\n",
    "    data['Pathology'] = np.random.choice(['Micropapillary', 'Papillary', 'Follicular', 'Hurthel cell'], n_samples)\n",
    "    data['Focality'] = np.random.choice(['Uni-Focal', 'Multi-Focal'], n_samples)\n",
    "    data['Risk'] = np.random.choice(['Low', 'Intermediate', 'High'], n_samples)\n",
    "    data['T'] = np.random.choice(['T1a', 'T1b', 'T2', 'T3a', 'T3b', 'T4a', 'T4b'], n_samples)\n",
    "    data['N'] = np.random.choice(['N0', 'N1b', 'N1a'], n_samples)\n",
    "    data['M'] = np.random.choice(['M0', 'M1'], n_samples)\n",
    "    data['Stage'] = np.random.choice(['I', 'II', 'III', 'IVB'], n_samples)\n",
    "    data['Response'] = np.random.choice(['Excellent', 'Indeterminate', 'Structural Incomplete', 'Biochemical Incomplete'], n_samples)\n",
    "    return data\n",
    "\n",
    "random_data = pd.DataFrame(generate_random_data(100))\n",
    "random_data = preprocess(random_data)\n",
    "random_data_scaled = scaler.transform(random_data)\n",
    "\n",
    "y_pred_random = model_lr.predict(random_data_scaled)\n",
    "print(y_pred_random)\n"
   ]
  },
  {
   "cell_type": "code",
   "execution_count": 24,
   "metadata": {},
   "outputs": [
    {
     "data": {
      "text/html": [
       "<div>\n",
       "<style scoped>\n",
       "    .dataframe tbody tr th:only-of-type {\n",
       "        vertical-align: middle;\n",
       "    }\n",
       "\n",
       "    .dataframe tbody tr th {\n",
       "        vertical-align: top;\n",
       "    }\n",
       "\n",
       "    .dataframe thead th {\n",
       "        text-align: right;\n",
       "    }\n",
       "</style>\n",
       "<table border=\"1\" class=\"dataframe\">\n",
       "  <thead>\n",
       "    <tr style=\"text-align: right;\">\n",
       "      <th></th>\n",
       "      <th>Age</th>\n",
       "      <th>Gender</th>\n",
       "      <th>Hx Radiothreapy</th>\n",
       "      <th>Adenopathy</th>\n",
       "      <th>Pathology</th>\n",
       "      <th>Focality</th>\n",
       "      <th>Risk</th>\n",
       "      <th>T</th>\n",
       "      <th>N</th>\n",
       "      <th>M</th>\n",
       "      <th>Stage</th>\n",
       "      <th>Response</th>\n",
       "    </tr>\n",
       "  </thead>\n",
       "  <tbody>\n",
       "    <tr>\n",
       "      <th>0</th>\n",
       "      <td>19</td>\n",
       "      <td>0</td>\n",
       "      <td>1</td>\n",
       "      <td>3</td>\n",
       "      <td>2</td>\n",
       "      <td>1</td>\n",
       "      <td>0</td>\n",
       "      <td>2</td>\n",
       "      <td>0</td>\n",
       "      <td>1</td>\n",
       "      <td>1</td>\n",
       "      <td>2</td>\n",
       "    </tr>\n",
       "    <tr>\n",
       "      <th>1</th>\n",
       "      <td>50</td>\n",
       "      <td>0</td>\n",
       "      <td>1</td>\n",
       "      <td>3</td>\n",
       "      <td>0</td>\n",
       "      <td>0</td>\n",
       "      <td>1</td>\n",
       "      <td>4</td>\n",
       "      <td>0</td>\n",
       "      <td>1</td>\n",
       "      <td>2</td>\n",
       "      <td>2</td>\n",
       "    </tr>\n",
       "  </tbody>\n",
       "</table>\n",
       "</div>"
      ],
      "text/plain": [
       "   Age  Gender  Hx Radiothreapy  Adenopathy  Pathology  Focality  Risk  T  N  \\\n",
       "0   19       0                1           3          2         1     0  2  0   \n",
       "1   50       0                1           3          0         0     1  4  0   \n",
       "\n",
       "   M  Stage  Response  \n",
       "0  1      1         2  \n",
       "1  1      2         2  "
      ]
     },
     "execution_count": 24,
     "metadata": {},
     "output_type": "execute_result"
    }
   ],
   "source": [
    "random_data.head(2)"
   ]
  },
  {
   "cell_type": "code",
   "execution_count": null,
   "metadata": {},
   "outputs": [],
   "source": []
  }
 ],
 "metadata": {
  "kernelspec": {
   "display_name": "iisc-aimlops",
   "language": "python",
   "name": "python3"
  },
  "language_info": {
   "codemirror_mode": {
    "name": "ipython",
    "version": 3
   },
   "file_extension": ".py",
   "mimetype": "text/x-python",
   "name": "python",
   "nbconvert_exporter": "python",
   "pygments_lexer": "ipython3",
   "version": "3.11.11"
  }
 },
 "nbformat": 4,
 "nbformat_minor": 2
}
